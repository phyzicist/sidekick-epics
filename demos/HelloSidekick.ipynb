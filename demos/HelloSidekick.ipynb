{
 "cells": [
  {
   "cell_type": "markdown",
   "id": "adb81e16",
   "metadata": {},
   "source": [
    "# Hello, Sidekick System!\n",
    "A simple example showing how to print out some variables from your sidekick system, and set some as well. Uses the \"pyepics\" code.\n",
    "\n",
    "Run this from a laptop on your same network as the sidekick devices.\n",
    "\n",
    "Start this Python kernel *after* joining the proper network."
   ]
  },
  {
   "cell_type": "markdown",
   "id": "b9daba37",
   "metadata": {},
   "source": [
    "## References:\n",
    "1. [PyEpics](https://cars9.uchicago.edu/software/python/pyepics3/index.html)\n",
    "1. [PyEpics PV Class](https://cars9.uchicago.edu/software/python/pyepics3/pv.html)"
   ]
  },
  {
   "cell_type": "code",
   "execution_count": 67,
   "id": "43b59c3c",
   "metadata": {},
   "outputs": [],
   "source": [
    "import epics"
   ]
  },
  {
   "cell_type": "markdown",
   "id": "7d012d0b",
   "metadata": {},
   "source": [
    "## Read some values!"
   ]
  },
  {
   "cell_type": "code",
   "execution_count": 9,
   "id": "a94573ff",
   "metadata": {},
   "outputs": [
    {
     "data": {
      "text/plain": [
       "'DolphinDAQ,Arduino LEDs,#00,v0.1'"
      ]
     },
     "execution_count": 9,
     "metadata": {},
     "output_type": "execute_result"
    }
   ],
   "source": [
    "epics.caget(\"LEDS:info\")"
   ]
  },
  {
   "cell_type": "code",
   "execution_count": 10,
   "id": "8eb325d1",
   "metadata": {},
   "outputs": [
    {
     "data": {
      "text/plain": [
       "'DolphinDAQ,Arduino Shutter,#00,v0.1'"
      ]
     },
     "execution_count": 10,
     "metadata": {},
     "output_type": "execute_result"
    }
   ],
   "source": [
    "epics.caget(\"SHUTTER:info\")"
   ]
  },
  {
   "cell_type": "code",
   "execution_count": 11,
   "id": "42d37684",
   "metadata": {},
   "outputs": [
    {
     "data": {
      "text/plain": [
       "'DolphinDAQ,Arduino PulseGen,#00,v0.1'"
      ]
     },
     "execution_count": 11,
     "metadata": {},
     "output_type": "execute_result"
    }
   ],
   "source": [
    "epics.caget(\"PULSEGEN:info\")"
   ]
  },
  {
   "cell_type": "code",
   "execution_count": 24,
   "id": "c790ffe2",
   "metadata": {
    "scrolled": false
   },
   "outputs": [
    {
     "data": {
      "text/plain": [
       "300000.0"
      ]
     },
     "execution_count": 24,
     "metadata": {},
     "output_type": "execute_result"
    }
   ],
   "source": [
    "epics.caget(\"LEDS:CH0:dur\") # Read pulse duration of LED#0"
   ]
  },
  {
   "cell_type": "markdown",
   "id": "be44302f",
   "metadata": {},
   "source": [
    "You should get \"200000.0\" above. If you got \"None\" instead, you're not establishing a proper connection to the EPICS sidekick system. Check your network connection and try again!"
   ]
  },
  {
   "cell_type": "markdown",
   "id": "5a389a4f",
   "metadata": {},
   "source": [
    "### Examine fields other than just the value"
   ]
  },
  {
   "cell_type": "markdown",
   "id": "92024163",
   "metadata": {},
   "source": [
    "#### Examining individual fields"
   ]
  },
  {
   "cell_type": "code",
   "execution_count": 56,
   "id": "4191926f",
   "metadata": {},
   "outputs": [
    {
     "name": "stdout",
     "output_type": "stream",
     "text": [
      "PV Name:  PULSEGEN:CH2:delay\n",
      "PV Value:  2000.0\n",
      "PV Description:  Set pulse delay time\n",
      "PV Units:  micros\n"
     ]
    }
   ],
   "source": [
    "print(\"PV Name: \", epics.caget(\"PULSEGEN:CH2:delay.NAME\"))\n",
    "print(\"PV Value: \", epics.caget(\"PULSEGEN:CH2:delay.VAL\"))\n",
    "print(\"PV Description: \", epics.caget(\"PULSEGEN:CH2:delay.DESC\"))\n",
    "print(\"PV Units: \", epics.caget(\"PULSEGEN:CH2:delay.EGU\"))"
   ]
  },
  {
   "cell_type": "code",
   "execution_count": 63,
   "id": "f0f83838",
   "metadata": {},
   "outputs": [
    {
     "name": "stdout",
     "output_type": "stream",
     "text": [
      "PV Name:  SHUTTER:dur\n",
      "PV Value:  1500000.0\n",
      "PV Description:  Set shutter-open duration (output)\n",
      "PV Units:  micros\n"
     ]
    }
   ],
   "source": [
    "channel = \"SHUTTER:dur\"\n",
    "for field, label in zip([\"NAME\", \"VAL\", \"DESC\", \"EGU\"], [\"Name\", \"Value\", \"Description\", \"Units\"]):\n",
    "    print(\"PV \" + label + \": \", epics.caget(channel + \".\" + field))"
   ]
  },
  {
   "cell_type": "markdown",
   "id": "f322c248",
   "metadata": {},
   "source": [
    "#### Examining all info about a PV\n",
    "\n",
    "Or even more efficiently, we could just use the \"cainfo\" method!"
   ]
  },
  {
   "cell_type": "code",
   "execution_count": 66,
   "id": "9ce6ccfa",
   "metadata": {},
   "outputs": [
    {
     "name": "stdout",
     "output_type": "stream",
     "text": [
      "== PULSEGEN:CH2:delay  (time_double) ==\n",
      "   value      = 400000\n",
      "   char_value = '4e+05'\n",
      "   count      = 1\n",
      "   nelm       = 1\n",
      "   type       = time_double\n",
      "   units      = micros\n",
      "   precision  = 0\n",
      "   host       = epics3:5064\n",
      "   access     = read/write\n",
      "   status     = 0\n",
      "   char_status= NO_ALARM\n",
      "   severity   = 0\n",
      "   char_severity       = NO_ALARM\n",
      "   timestamp  = 1648093654.955 (2022-03-23 20:47:34.95512)\n",
      "   posixseconds        = 1648093654.0\n",
      "   nanoseconds= 955123618\n",
      "   upper_ctrl_limit    = 4294967295.0\n",
      "   lower_ctrl_limit    = 0.0\n",
      "   upper_disp_limit    = 0.0\n",
      "   lower_disp_limit    = 0.0\n",
      "   upper_alarm_limit   = 0.0\n",
      "   lower_alarm_limit   = 0.0\n",
      "   upper_warning_limit = 0.0\n",
      "   lower_warning_limit = 0.0\n",
      "   PV is internally monitored, with 0 user-defined callbacks:\n",
      "=============================\n"
     ]
    }
   ],
   "source": [
    "epics.cainfo(\"PULSEGEN:CH2:delay\")"
   ]
  },
  {
   "cell_type": "markdown",
   "id": "552f947f",
   "metadata": {},
   "source": [
    "## Set some values!"
   ]
  },
  {
   "cell_type": "code",
   "execution_count": 74,
   "id": "695a5a77",
   "metadata": {},
   "outputs": [
    {
     "data": {
      "text/plain": [
       "1"
      ]
     },
     "execution_count": 74,
     "metadata": {},
     "output_type": "execute_result"
    }
   ],
   "source": [
    "epics.caput(\"LEDS:CH0:brig\", 0) # Suppress output from LED #0 by setting brightness to \"0\" (out of 255)"
   ]
  },
  {
   "cell_type": "code",
   "execution_count": 75,
   "id": "0f87a904",
   "metadata": {
    "scrolled": true
   },
   "outputs": [
    {
     "data": {
      "text/plain": [
       "1"
      ]
     },
     "execution_count": 75,
     "metadata": {},
     "output_type": "execute_result"
    }
   ],
   "source": [
    "epics.caput(\"LEDS:CH3:brig\", 255) # Maximize brightness from LED #3 by setting brightness to \"255\" (out of 255)"
   ]
  },
  {
   "cell_type": "code",
   "execution_count": 76,
   "id": "0cd3c88e",
   "metadata": {},
   "outputs": [
    {
     "data": {
      "text/plain": [
       "1"
      ]
     },
     "execution_count": 76,
     "metadata": {},
     "output_type": "execute_result"
    }
   ],
   "source": [
    "epics.caput(\"LEDS:CH5:dur\", 500e3) # Maximize brightness from LED #3 by setting brightness to \"255\" (out of 255)"
   ]
  },
  {
   "cell_type": "markdown",
   "id": "6fdbdf59",
   "metadata": {},
   "source": [
    "## Object-Oriented Approach"
   ]
  },
  {
   "cell_type": "markdown",
   "id": "9f29c719",
   "metadata": {},
   "source": [
    "The above uses procedural methods like \"caget\", \"caput\", and \"cainfo\". There is also an object-oriented approach in pyepics that can be quite powerful."
   ]
  },
  {
   "cell_type": "code",
   "execution_count": 62,
   "id": "c591c954",
   "metadata": {},
   "outputs": [],
   "source": [
    "from epics import PV"
   ]
  },
  {
   "cell_type": "code",
   "execution_count": 33,
   "id": "6be997db",
   "metadata": {},
   "outputs": [
    {
     "data": {
      "text/plain": [
       "255"
      ]
     },
     "execution_count": 33,
     "metadata": {},
     "output_type": "execute_result"
    }
   ],
   "source": [
    "mypv = PV('LEDS:CH4:brig.VAL')\n",
    "mypv.get() # Get brightness of LED #4"
   ]
  },
  {
   "cell_type": "code",
   "execution_count": 32,
   "id": "deeec60f",
   "metadata": {},
   "outputs": [
    {
     "data": {
      "text/plain": [
       "1"
      ]
     },
     "execution_count": 32,
     "metadata": {},
     "output_type": "execute_result"
    }
   ],
   "source": [
    "mypv.put(255) # Maximize brightness from LED #4 by setting brightness to \"255\" (out of 255)"
   ]
  }
 ],
 "metadata": {
  "kernelspec": {
   "display_name": "Python 3",
   "language": "python",
   "name": "python3"
  },
  "language_info": {
   "codemirror_mode": {
    "name": "ipython",
    "version": 3
   },
   "file_extension": ".py",
   "mimetype": "text/x-python",
   "name": "python",
   "nbconvert_exporter": "python",
   "pygments_lexer": "ipython3",
   "version": "3.9.6"
  }
 },
 "nbformat": 4,
 "nbformat_minor": 5
}
