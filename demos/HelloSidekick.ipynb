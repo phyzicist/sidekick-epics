{
 "cells": [
  {
   "cell_type": "markdown",
   "id": "5a195564",
   "metadata": {},
   "source": [
    "# Hello, Sidekick System!\n",
    "A simple example showing how to print out some variables from your sidekick system, and set some as well. Uses the \"pyepics\" code.\n",
    "\n",
    "Run this from a laptop on your same network as the sidekick devices.\n",
    "\n",
    "Start this Python kernel *after* joining the proper network."
   ]
  },
  {
   "cell_type": "markdown",
   "id": "d0ccb3c4",
   "metadata": {},
   "source": [
    "## References:\n",
    "1. [PyEpics](https://cars9.uchicago.edu/software/python/pyepics3/index.html)\n",
    "1. [PyEpics PV Class](https://cars9.uchicago.edu/software/python/pyepics3/pv.html)"
   ]
  },
  {
   "cell_type": "code",
   "execution_count": 23,
   "id": "ea25cebe",
   "metadata": {},
   "outputs": [],
   "source": [
    "import epics"
   ]
  },
  {
   "cell_type": "markdown",
   "id": "f23bae21",
   "metadata": {},
   "source": [
    "## Read some values!"
   ]
  },
  {
   "cell_type": "code",
   "execution_count": 9,
   "id": "8ed03a22",
   "metadata": {},
   "outputs": [
    {
     "data": {
      "text/plain": [
       "'DolphinDAQ,Arduino LEDs,#00,v0.1'"
      ]
     },
     "execution_count": 9,
     "metadata": {},
     "output_type": "execute_result"
    }
   ],
   "source": [
    "epics.caget(\"LEDS:info\")"
   ]
  },
  {
   "cell_type": "code",
   "execution_count": 10,
   "id": "76442902",
   "metadata": {},
   "outputs": [
    {
     "data": {
      "text/plain": [
       "'DolphinDAQ,Arduino Shutter,#00,v0.1'"
      ]
     },
     "execution_count": 10,
     "metadata": {},
     "output_type": "execute_result"
    }
   ],
   "source": [
    "epics.caget(\"SHUTTER:info\")"
   ]
  },
  {
   "cell_type": "code",
   "execution_count": 11,
   "id": "42f3e06d",
   "metadata": {},
   "outputs": [
    {
     "data": {
      "text/plain": [
       "'DolphinDAQ,Arduino PulseGen,#00,v0.1'"
      ]
     },
     "execution_count": 11,
     "metadata": {},
     "output_type": "execute_result"
    }
   ],
   "source": [
    "epics.caget(\"PULSEGEN:info\")"
   ]
  },
  {
   "cell_type": "code",
   "execution_count": 24,
   "id": "46c3f2cc",
   "metadata": {
    "scrolled": false
   },
   "outputs": [
    {
     "data": {
      "text/plain": [
       "300000.0"
      ]
     },
     "execution_count": 24,
     "metadata": {},
     "output_type": "execute_result"
    }
   ],
   "source": [
    "epics.caget(\"LEDS:CH0:dur\") # Read pulse duration of LED#0"
   ]
  },
  {
   "cell_type": "markdown",
   "id": "5bde607b",
   "metadata": {},
   "source": [
    "You should get \"200000.0\" above. If you got \"None\" instead, you're not establishing a proper connection to the EPICS sidekick system. Check your network connection and try again!"
   ]
  },
  {
   "cell_type": "markdown",
   "id": "174b1555",
   "metadata": {},
   "source": [
    "## Set some values!"
   ]
  },
  {
   "cell_type": "code",
   "execution_count": 21,
   "id": "e2539074",
   "metadata": {},
   "outputs": [
    {
     "data": {
      "text/plain": [
       "1"
      ]
     },
     "execution_count": 21,
     "metadata": {},
     "output_type": "execute_result"
    }
   ],
   "source": [
    "epics.caput(\"LEDS:CH0:brig\", 0) ## Suppress output from LED #0 by setting brightness to \"0\" (out of 255)"
   ]
  },
  {
   "cell_type": "code",
   "execution_count": 20,
   "id": "127566fa",
   "metadata": {},
   "outputs": [
    {
     "data": {
      "text/plain": [
       "1"
      ]
     },
     "execution_count": 20,
     "metadata": {},
     "output_type": "execute_result"
    }
   ],
   "source": [
    "epics.caput(\"LEDS:CH3:brig\", 255) ## Maximize brightness from LED #3 by setting brightness to \"255\" (out of 255)"
   ]
  }
 ],
 "metadata": {
  "kernelspec": {
   "display_name": "Python 3",
   "language": "python",
   "name": "python3"
  },
  "language_info": {
   "codemirror_mode": {
    "name": "ipython",
    "version": 3
   },
   "file_extension": ".py",
   "mimetype": "text/x-python",
   "name": "python",
   "nbconvert_exporter": "python",
   "pygments_lexer": "ipython3",
   "version": "3.9.6"
  }
 },
 "nbformat": 4,
 "nbformat_minor": 5
}
