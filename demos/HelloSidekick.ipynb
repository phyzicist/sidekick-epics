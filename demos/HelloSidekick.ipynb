{
 "cells": [
  {
   "cell_type": "markdown",
   "id": "65f5cbb3",
   "metadata": {},
   "source": [
    "# Hello, Sidekick System!\n",
    "A simple example showing how to print out some variables from your sidekick system, and set some as well. Uses the \"pyepics\" code.\n",
    "\n",
    "Run this from a laptop on your same network as the sidekick devices.\n",
    "\n",
    "Start this Python kernel *after* joining the proper network."
   ]
  },
  {
   "cell_type": "markdown",
   "id": "936a7f00",
   "metadata": {},
   "source": [
    "## References:\n",
    "1. [PyEpics](https://cars9.uchicago.edu/software/python/pyepics3/index.html)\n",
    "1. [PyEpics PV Class](https://cars9.uchicago.edu/software/python/pyepics3/pv.html)"
   ]
  },
  {
   "cell_type": "code",
   "execution_count": 23,
   "id": "81e94ba4",
   "metadata": {},
   "outputs": [],
   "source": [
    "import epics"
   ]
  },
  {
   "cell_type": "markdown",
   "id": "efa9e2cc",
   "metadata": {},
   "source": [
    "## Read some values!"
   ]
  },
  {
   "cell_type": "code",
   "execution_count": 9,
   "id": "f9d59cb6",
   "metadata": {},
   "outputs": [
    {
     "data": {
      "text/plain": [
       "'DolphinDAQ,Arduino LEDs,#00,v0.1'"
      ]
     },
     "execution_count": 9,
     "metadata": {},
     "output_type": "execute_result"
    }
   ],
   "source": [
    "epics.caget(\"LEDS:info\")"
   ]
  },
  {
   "cell_type": "code",
   "execution_count": 10,
   "id": "566bc360",
   "metadata": {},
   "outputs": [
    {
     "data": {
      "text/plain": [
       "'DolphinDAQ,Arduino Shutter,#00,v0.1'"
      ]
     },
     "execution_count": 10,
     "metadata": {},
     "output_type": "execute_result"
    }
   ],
   "source": [
    "epics.caget(\"SHUTTER:info\")"
   ]
  },
  {
   "cell_type": "code",
   "execution_count": 11,
   "id": "8cbb7a3c",
   "metadata": {},
   "outputs": [
    {
     "data": {
      "text/plain": [
       "'DolphinDAQ,Arduino PulseGen,#00,v0.1'"
      ]
     },
     "execution_count": 11,
     "metadata": {},
     "output_type": "execute_result"
    }
   ],
   "source": [
    "epics.caget(\"PULSEGEN:info\")"
   ]
  },
  {
   "cell_type": "code",
   "execution_count": 24,
   "id": "0cff0a35",
   "metadata": {
    "scrolled": false
   },
   "outputs": [
    {
     "data": {
      "text/plain": [
       "300000.0"
      ]
     },
     "execution_count": 24,
     "metadata": {},
     "output_type": "execute_result"
    }
   ],
   "source": [
    "epics.caget(\"LEDS:CH0:dur\") # Read pulse duration of LED#0"
   ]
  },
  {
   "cell_type": "markdown",
   "id": "1376079c",
   "metadata": {},
   "source": [
    "You should get \"200000.0\" above. If you got \"None\" instead, you're not establishing a proper connection to the EPICS sidekick system. Check your network connection and try again!"
   ]
  },
  {
   "cell_type": "markdown",
   "id": "bf00a91e",
   "metadata": {},
   "source": [
    "### Examine fields other than just the value"
   ]
  },
  {
   "cell_type": "code",
   "execution_count": 56,
   "id": "47cce21e",
   "metadata": {},
   "outputs": [
    {
     "name": "stdout",
     "output_type": "stream",
     "text": [
      "PV Name:  PULSEGEN:CH2:delay\n",
      "PV Value:  2000.0\n",
      "PV Description:  Set pulse delay time\n",
      "PV Units:  micros\n"
     ]
    }
   ],
   "source": [
    "print(\"PV Name: \", epics.caget(\"PULSEGEN:CH2:delay.NAME\"))\n",
    "print(\"PV Value: \", epics.caget(\"PULSEGEN:CH2:delay.VAL\"))\n",
    "print(\"PV Description: \", epics.caget(\"PULSEGEN:CH2:delay.DESC\"))\n",
    "print(\"PV Units: \", epics.caget(\"PULSEGEN:CH2:delay.EGU\"))"
   ]
  },
  {
   "cell_type": "code",
   "execution_count": 60,
   "id": "9ec6358a",
   "metadata": {},
   "outputs": [
    {
     "name": "stdout",
     "output_type": "stream",
     "text": [
      "PV Name:  SHUTTER:dur\n",
      "PV Value:  0.0\n",
      "PV Description:  Set shutter-open duration (output)\n",
      "PV Units:  micros\n"
     ]
    }
   ],
   "source": [
    "channel = \"SHUTTER:dur\"\n",
    "for field, label in zip([\"NAME\", \"VAL\", \"DESC\", \"EGU\"], [\"Name\", \"Value\", \"Description\", \"Units\"]):\n",
    "    print(\"PV \" + label + \": \", epics.caget(channel + \".\" + field))"
   ]
  },
  {
   "cell_type": "markdown",
   "id": "90146462",
   "metadata": {},
   "source": [
    "## Set some values!"
   ]
  },
  {
   "cell_type": "code",
   "execution_count": 21,
   "id": "2c82d746",
   "metadata": {},
   "outputs": [
    {
     "data": {
      "text/plain": [
       "1"
      ]
     },
     "execution_count": 21,
     "metadata": {},
     "output_type": "execute_result"
    }
   ],
   "source": [
    "epics.caput(\"LEDS:CH0:brig\", 0) # Suppress output from LED #0 by setting brightness to \"0\" (out of 255)"
   ]
  },
  {
   "cell_type": "code",
   "execution_count": 25,
   "id": "37b8980f",
   "metadata": {},
   "outputs": [
    {
     "data": {
      "text/plain": [
       "1"
      ]
     },
     "execution_count": 25,
     "metadata": {},
     "output_type": "execute_result"
    }
   ],
   "source": [
    "epics.caput(\"LEDS:CH3:brig\", 255) # Maximize brightness from LED #3 by setting brightness to \"255\" (out of 255)"
   ]
  },
  {
   "cell_type": "markdown",
   "id": "bdcd43c3",
   "metadata": {},
   "source": [
    "## Object-Oriented Approach"
   ]
  },
  {
   "cell_type": "code",
   "execution_count": 33,
   "id": "eafff6a8",
   "metadata": {},
   "outputs": [
    {
     "data": {
      "text/plain": [
       "255"
      ]
     },
     "execution_count": 33,
     "metadata": {},
     "output_type": "execute_result"
    }
   ],
   "source": [
    "mypv = PV('LEDS:CH4:brig.VAL')\n",
    "mypv.get() # Get brightness of LED #4"
   ]
  },
  {
   "cell_type": "code",
   "execution_count": 32,
   "id": "33a4ab84",
   "metadata": {},
   "outputs": [
    {
     "data": {
      "text/plain": [
       "1"
      ]
     },
     "execution_count": 32,
     "metadata": {},
     "output_type": "execute_result"
    }
   ],
   "source": [
    "mypv.put(255) # Maximize brightness from LED #4 by setting brightness to \"255\" (out of 255)"
   ]
  }
 ],
 "metadata": {
  "kernelspec": {
   "display_name": "Python 3",
   "language": "python",
   "name": "python3"
  },
  "language_info": {
   "codemirror_mode": {
    "name": "ipython",
    "version": 3
   },
   "file_extension": ".py",
   "mimetype": "text/x-python",
   "name": "python",
   "nbconvert_exporter": "python",
   "pygments_lexer": "ipython3",
   "version": "3.9.6"
  }
 },
 "nbformat": 4,
 "nbformat_minor": 5
}
