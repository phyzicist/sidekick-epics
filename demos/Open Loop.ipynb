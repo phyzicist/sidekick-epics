{
 "cells": [
  {
   "cell_type": "markdown",
   "id": "b31ad0c6",
   "metadata": {},
   "source": [
    "# Open Loop Operation\n",
    "\n",
    "An example of scanning over LED brightnesses and plotting the result in the photodiode"
   ]
  },
  {
   "cell_type": "code",
   "execution_count": 1,
   "id": "a3f0cfaf",
   "metadata": {},
   "outputs": [],
   "source": [
    "import numpy as np\n",
    "import epics\n",
    "from epics import PV\n",
    "from time import sleep"
   ]
  },
  {
   "cell_type": "markdown",
   "id": "08d745b0",
   "metadata": {},
   "source": [
    "## Setup"
   ]
  },
  {
   "cell_type": "markdown",
   "id": "5b8d0104",
   "metadata": {},
   "source": [
    "### Set all six LEDs to flash in unison"
   ]
  },
  {
   "cell_type": "markdown",
   "id": "3a76d9f5",
   "metadata": {},
   "source": [
    "Create a six-element list of LED-duration process variables"
   ]
  },
  {
   "cell_type": "code",
   "execution_count": 20,
   "id": "3c1db645",
   "metadata": {},
   "outputs": [],
   "source": [
    "LEDdurs = [None]*6\n",
    "for i in range(6):\n",
    "    LEDdurs[i] = PV('LEDS:CH' + str(i) + ':dur.VAL')"
   ]
  },
  {
   "cell_type": "markdown",
   "id": "e7954d5e",
   "metadata": {},
   "source": [
    "Set all LEDs to flash for the same duration: five hundred milliseconds."
   ]
  },
  {
   "cell_type": "code",
   "execution_count": 21,
   "id": "d6133e5e",
   "metadata": {},
   "outputs": [],
   "source": [
    "for LEDdur in LEDdurs:\n",
    "    LEDdur.put(500e3)"
   ]
  },
  {
   "cell_type": "markdown",
   "id": "52602944",
   "metadata": {},
   "source": [
    "### Initialize all six LEDs at their maximum brightness"
   ]
  },
  {
   "cell_type": "markdown",
   "id": "b1924208",
   "metadata": {},
   "source": [
    "Create a six-element list of LED-brightness process variables"
   ]
  },
  {
   "cell_type": "code",
   "execution_count": 23,
   "id": "33552723",
   "metadata": {},
   "outputs": [],
   "source": [
    "LEDbrigs = [None]*6\n",
    "for i in range(6):\n",
    "    LEDbrigs[i] = PV('LEDS:CH' + str(i) + ':brig.VAL')"
   ]
  },
  {
   "cell_type": "markdown",
   "id": "fb972f92",
   "metadata": {},
   "source": [
    "Set all LEDs to the same brightness level: 255 (out of 255)"
   ]
  },
  {
   "cell_type": "code",
   "execution_count": 5,
   "id": "e50dff66",
   "metadata": {},
   "outputs": [],
   "source": [
    "for LEDbrig in LEDbrigs:\n",
    "    LEDbrig.put(255)"
   ]
  },
  {
   "cell_type": "markdown",
   "id": "9def89b4",
   "metadata": {},
   "source": [
    "### Ensure the shutter is open throughout LED flash"
   ]
  },
  {
   "cell_type": "markdown",
   "id": "bd57b9cd",
   "metadata": {},
   "source": [
    "Specify that the shutter should wait **a full 1.5 seconds** to start closing after opening"
   ]
  },
  {
   "cell_type": "code",
   "execution_count": 24,
   "id": "af9fd4c9",
   "metadata": {},
   "outputs": [
    {
     "data": {
      "text/plain": [
       "1"
      ]
     },
     "execution_count": 24,
     "metadata": {},
     "output_type": "execute_result"
    }
   ],
   "source": [
    "epics.caput(\"SHUTTER:dur\", 1.5e6)"
   ]
  },
  {
   "cell_type": "markdown",
   "id": "38ab4c0e",
   "metadata": {},
   "source": [
    "Reduce the overall repetition rate of the system to once every three seconds"
   ]
  },
  {
   "cell_type": "code",
   "execution_count": 25,
   "id": "3927c35d",
   "metadata": {},
   "outputs": [
    {
     "data": {
      "text/plain": [
       "1"
      ]
     },
     "execution_count": 25,
     "metadata": {},
     "output_type": "execute_result"
    }
   ],
   "source": [
    "epics.caput(\"PULSEGEN:reprate\", 1/3.0)"
   ]
  },
  {
   "cell_type": "markdown",
   "id": "8b5ad856",
   "metadata": {},
   "source": [
    "Increase the delay time on the LED trigger to be 400 milliseconds (it started at 2 milliseconds)"
   ]
  },
  {
   "cell_type": "code",
   "execution_count": 26,
   "id": "838966d3",
   "metadata": {
    "scrolled": true
   },
   "outputs": [
    {
     "data": {
      "text/plain": [
       "1"
      ]
     },
     "execution_count": 26,
     "metadata": {},
     "output_type": "execute_result"
    }
   ],
   "source": [
    "epics.caput(\"PULSEGEN:CH0:delay\", 400.0e3) # Set LED trigger delay to 400 ms"
   ]
  },
  {
   "cell_type": "markdown",
   "id": "1e795943",
   "metadata": {},
   "source": [
    "## Set up the photodetector trigger delay and exposure time"
   ]
  },
  {
   "cell_type": "markdown",
   "id": "817c1ddb",
   "metadata": {},
   "source": [
    "We want the photodetector to start exposure before the LEDs begin flashing, and end exposure afterwards.\n",
    "\n",
    "We will set the delay time on the trigger to the photodetector to be 300 ms, which is 100 ms prior to the LEDs flashing."
   ]
  },
  {
   "cell_type": "code",
   "execution_count": 9,
   "id": "6214ff65",
   "metadata": {},
   "outputs": [
    {
     "data": {
      "text/plain": [
       "1"
      ]
     },
     "execution_count": 9,
     "metadata": {},
     "output_type": "execute_result"
    }
   ],
   "source": [
    "epics.caput(\"PULSEGEN:CH1:delay\", 300.0e3) # Set Photodetector trigger delay to 300 ms"
   ]
  },
  {
   "cell_type": "markdown",
   "id": "6f6a8553",
   "metadata": {},
   "source": [
    "Now, we will set the exposure length on the photodiode to a full second, to make sure we capture the entire LED flash duration."
   ]
  },
  {
   "cell_type": "code",
   "execution_count": 10,
   "id": "76790bac",
   "metadata": {},
   "outputs": [
    {
     "data": {
      "text/plain": [
       "1"
      ]
     },
     "execution_count": 10,
     "metadata": {},
     "output_type": "execute_result"
    }
   ],
   "source": [
    "epics.caput(\"PHOTO:dur\", 1000.0e3) # Set photodetector exposure length to one second"
   ]
  },
  {
   "cell_type": "markdown",
   "id": "44c15348",
   "metadata": {},
   "source": [
    "## Read the photodetector value"
   ]
  },
  {
   "cell_type": "code",
   "execution_count": 11,
   "id": "16e9afc2",
   "metadata": {},
   "outputs": [
    {
     "data": {
      "text/plain": [
       "'DATA: 0.06364211, TRIGCNT: 727'"
      ]
     },
     "execution_count": 11,
     "metadata": {},
     "output_type": "execute_result"
    }
   ],
   "source": [
    "epics.caget(\"PHOTO:data\")"
   ]
  },
  {
   "cell_type": "code",
   "execution_count": null,
   "id": "e7c4ffa5",
   "metadata": {},
   "outputs": [],
   "source": []
  },
  {
   "cell_type": "markdown",
   "id": "63f8fc93",
   "metadata": {},
   "source": [
    "### Loop over brightness values"
   ]
  },
  {
   "cell_type": "markdown",
   "id": "52c00a6e",
   "metadata": {},
   "source": [
    "Loop over brightness demo"
   ]
  },
  {
   "cell_type": "code",
   "execution_count": 19,
   "id": "ae2f4abc",
   "metadata": {},
   "outputs": [
    {
     "name": "stdout",
     "output_type": "stream",
     "text": [
      "Brightness:  0\n",
      "DATA: 0.16608188, TRIGCNT: 869\n",
      "Brightness:  63\n",
      "DATA: 0.18804564, TRIGCNT: 870\n",
      "Brightness:  127\n",
      "DATA: 0.22022258, TRIGCNT: 872\n",
      "Brightness:  191\n",
      "DATA: 0.24525081, TRIGCNT: 874\n",
      "Brightness:  255\n",
      "DATA: 0.27381200, TRIGCNT: 875\n"
     ]
    }
   ],
   "source": [
    "for brig in np.linspace(0, 255, 5).astype('int'):\n",
    "    print(\"Brightness: \", brig)\n",
    "    for LEDbrig in LEDbrigs:\n",
    "        LEDbrig.put(brig)\n",
    "    sleep(5)\n",
    "    print(epics.caget(\"PHOTO:data\"))"
   ]
  },
  {
   "cell_type": "code",
   "execution_count": null,
   "id": "4f111794",
   "metadata": {},
   "outputs": [],
   "source": []
  }
 ],
 "metadata": {
  "kernelspec": {
   "display_name": "Python 3",
   "language": "python",
   "name": "python3"
  },
  "language_info": {
   "codemirror_mode": {
    "name": "ipython",
    "version": 3
   },
   "file_extension": ".py",
   "mimetype": "text/x-python",
   "name": "python",
   "nbconvert_exporter": "python",
   "pygments_lexer": "ipython3",
   "version": "3.9.6"
  }
 },
 "nbformat": 4,
 "nbformat_minor": 5
}
