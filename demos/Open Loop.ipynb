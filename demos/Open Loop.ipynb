{
 "cells": [
  {
   "cell_type": "markdown",
   "id": "41eb07b3",
   "metadata": {},
   "source": [
    "# Open Loop Operation\n",
    "\n",
    "An example of scanning over LED brightnesses and plotting the result in the photodiode"
   ]
  },
  {
   "cell_type": "code",
   "execution_count": 16,
   "id": "276c0498",
   "metadata": {},
   "outputs": [],
   "source": [
    "import numpy as np\n",
    "import epics\n",
    "from epics import PV"
   ]
  },
  {
   "cell_type": "markdown",
   "id": "8aa6cab4",
   "metadata": {},
   "source": [
    "## Setup"
   ]
  },
  {
   "cell_type": "markdown",
   "id": "35c103d8",
   "metadata": {},
   "source": [
    "### Set all six LEDs to flash in unison"
   ]
  },
  {
   "cell_type": "markdown",
   "id": "297f03df",
   "metadata": {},
   "source": [
    "Create a six-element list of LED-duration process variables"
   ]
  },
  {
   "cell_type": "code",
   "execution_count": 17,
   "id": "921e8029",
   "metadata": {},
   "outputs": [],
   "source": [
    "LEDdurs = [None]*6\n",
    "for i in range(6):\n",
    "    LEDdurs[i] = PV('LEDS:CH' + str(i) + ':dur.VAL')"
   ]
  },
  {
   "cell_type": "markdown",
   "id": "8a8c8dfc",
   "metadata": {},
   "source": [
    "Set all LEDs to flash for the same duration: five hundred milliseconds."
   ]
  },
  {
   "cell_type": "code",
   "execution_count": 18,
   "id": "7c2b7880",
   "metadata": {},
   "outputs": [],
   "source": [
    "for LEDdur in LEDdurs:\n",
    "    LEDdur.put(500e3)"
   ]
  },
  {
   "cell_type": "code",
   "execution_count": null,
   "id": "2f87d741",
   "metadata": {},
   "outputs": [],
   "source": []
  },
  {
   "cell_type": "markdown",
   "id": "5bf4ce06",
   "metadata": {},
   "source": [
    "### Initialize all six LEDs at their maximum brightness"
   ]
  },
  {
   "cell_type": "markdown",
   "id": "ae75268b",
   "metadata": {},
   "source": [
    "Create a six-element list of LED-brightness process variables"
   ]
  },
  {
   "cell_type": "code",
   "execution_count": 19,
   "id": "0c568d1a",
   "metadata": {},
   "outputs": [],
   "source": [
    "LEDbrigs = [None]*6\n",
    "for i in range(6):\n",
    "    LEDbrigs[i] = PV('LEDS:CH' + str(i) + ':brig.VAL')"
   ]
  },
  {
   "cell_type": "markdown",
   "id": "ef6524bc",
   "metadata": {},
   "source": [
    "Set all LEDs to the same brightness level: 255 (out of 255)"
   ]
  },
  {
   "cell_type": "code",
   "execution_count": 20,
   "id": "6ef9a30b",
   "metadata": {},
   "outputs": [],
   "source": [
    "for LEDbrig in LEDbrigs:\n",
    "    LEDbrig.put(255)"
   ]
  },
  {
   "cell_type": "markdown",
   "id": "5ab057f7",
   "metadata": {},
   "source": [
    "### Ensure the shutter is open throughout LED flash"
   ]
  },
  {
   "cell_type": "markdown",
   "id": "b9927c9e",
   "metadata": {},
   "source": [
    "Specify that the shutter should wait **a full 1.5 seconds** to start closing after opening"
   ]
  },
  {
   "cell_type": "code",
   "execution_count": 21,
   "id": "d76a6f2c",
   "metadata": {},
   "outputs": [
    {
     "data": {
      "text/plain": [
       "1"
      ]
     },
     "execution_count": 21,
     "metadata": {},
     "output_type": "execute_result"
    }
   ],
   "source": [
    "epics.caput(\"SHUTTER:dur\", 1.5e6)"
   ]
  },
  {
   "cell_type": "markdown",
   "id": "05729193",
   "metadata": {},
   "source": [
    "Reduce the overall repetition rate of the system to once every three seconds"
   ]
  },
  {
   "cell_type": "code",
   "execution_count": 24,
   "id": "7822a4e8",
   "metadata": {},
   "outputs": [
    {
     "data": {
      "text/plain": [
       "1"
      ]
     },
     "execution_count": 24,
     "metadata": {},
     "output_type": "execute_result"
    }
   ],
   "source": [
    "epics.caput(\"PULSEGEN:reprate\", 1/3.0)"
   ]
  },
  {
   "cell_type": "markdown",
   "id": "ec5daf58",
   "metadata": {},
   "source": [
    "Increase the delay time on the LED trigger to be 400 milliseconds (it started at 2 milliseconds)"
   ]
  },
  {
   "cell_type": "code",
   "execution_count": 37,
   "id": "aa32a458",
   "metadata": {
    "scrolled": true
   },
   "outputs": [
    {
     "data": {
      "text/plain": [
       "1"
      ]
     },
     "execution_count": 37,
     "metadata": {},
     "output_type": "execute_result"
    }
   ],
   "source": [
    "epics.caput(\"PULSEGEN:CH0:delay\", 400.0e3)"
   ]
  },
  {
   "cell_type": "markdown",
   "id": "b34c2b91",
   "metadata": {},
   "source": [
    "## Read the photodetector value"
   ]
  },
  {
   "cell_type": "code",
   "execution_count": 38,
   "id": "6e1f518e",
   "metadata": {},
   "outputs": [
    {
     "data": {
      "text/plain": [
       "400000.0"
      ]
     },
     "execution_count": 38,
     "metadata": {},
     "output_type": "execute_result"
    }
   ],
   "source": [
    "epics.caget()"
   ]
  },
  {
   "cell_type": "code",
   "execution_count": null,
   "id": "ad7b29c4",
   "metadata": {},
   "outputs": [],
   "source": []
  }
 ],
 "metadata": {
  "kernelspec": {
   "display_name": "Python 3",
   "language": "python",
   "name": "python3"
  },
  "language_info": {
   "codemirror_mode": {
    "name": "ipython",
    "version": 3
   },
   "file_extension": ".py",
   "mimetype": "text/x-python",
   "name": "python",
   "nbconvert_exporter": "python",
   "pygments_lexer": "ipython3",
   "version": "3.9.6"
  }
 },
 "nbformat": 4,
 "nbformat_minor": 5
}
