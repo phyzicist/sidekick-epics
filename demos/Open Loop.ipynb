{
 "cells": [
  {
   "cell_type": "markdown",
   "id": "5a144fd0",
   "metadata": {},
   "source": [
    "# Open Loop Operation\n",
    "\n",
    "An example of scanning over LED brightnesses and plotting the result in the photodiode"
   ]
  },
  {
   "cell_type": "code",
   "execution_count": 1,
   "id": "5c224625",
   "metadata": {},
   "outputs": [],
   "source": [
    "import numpy as np\n",
    "import epics\n",
    "from epics import PV\n",
    "from time import sleep"
   ]
  },
  {
   "cell_type": "markdown",
   "id": "b753d981",
   "metadata": {},
   "source": [
    "## Setup"
   ]
  },
  {
   "cell_type": "markdown",
   "id": "95ca9740",
   "metadata": {},
   "source": [
    "### Set all six LEDs to flash in unison"
   ]
  },
  {
   "cell_type": "markdown",
   "id": "e245bfd8",
   "metadata": {},
   "source": [
    "Create a six-element list of LED-duration process variables"
   ]
  },
  {
   "cell_type": "code",
   "execution_count": 2,
   "id": "a30c6199",
   "metadata": {},
   "outputs": [],
   "source": [
    "LEDdurs = [None]*6\n",
    "for i in range(6):\n",
    "    LEDdurs[i] = PV('LEDS:CH' + str(i) + ':dur.VAL')"
   ]
  },
  {
   "cell_type": "markdown",
   "id": "b7264333",
   "metadata": {},
   "source": [
    "Set all LEDs to flash for the same duration: five hundred milliseconds."
   ]
  },
  {
   "cell_type": "code",
   "execution_count": 3,
   "id": "e7d2bb96",
   "metadata": {},
   "outputs": [],
   "source": [
    "for LEDdur in LEDdurs:\n",
    "    LEDdur.put(500e3)"
   ]
  },
  {
   "cell_type": "markdown",
   "id": "795fe60d",
   "metadata": {},
   "source": [
    "### Initialize all six LEDs at their maximum brightness"
   ]
  },
  {
   "cell_type": "markdown",
   "id": "6cd5099d",
   "metadata": {},
   "source": [
    "Create a six-element list of LED-brightness process variables"
   ]
  },
  {
   "cell_type": "code",
   "execution_count": 4,
   "id": "30ea27c6",
   "metadata": {},
   "outputs": [],
   "source": [
    "LEDbrigs = [None]*6\n",
    "for i in range(6):\n",
    "    LEDbrigs[i] = PV('LEDS:CH' + str(i) + ':brig.VAL')"
   ]
  },
  {
   "cell_type": "markdown",
   "id": "538cc363",
   "metadata": {},
   "source": [
    "Set all LEDs to the same brightness level: 255 (out of 255)"
   ]
  },
  {
   "cell_type": "code",
   "execution_count": 5,
   "id": "11121f7c",
   "metadata": {},
   "outputs": [],
   "source": [
    "for LEDbrig in LEDbrigs:\n",
    "    LEDbrig.put(255)"
   ]
  },
  {
   "cell_type": "markdown",
   "id": "883a510d",
   "metadata": {},
   "source": [
    "### Ensure the shutter is open throughout LED flash"
   ]
  },
  {
   "cell_type": "markdown",
   "id": "bb56061b",
   "metadata": {},
   "source": [
    "Specify that the shutter should wait **a full 1.5 seconds** to start closing after opening"
   ]
  },
  {
   "cell_type": "code",
   "execution_count": 6,
   "id": "d7000a53",
   "metadata": {},
   "outputs": [
    {
     "data": {
      "text/plain": [
       "1"
      ]
     },
     "execution_count": 6,
     "metadata": {},
     "output_type": "execute_result"
    }
   ],
   "source": [
    "epics.caput(\"SHUTTER:dur\", 1.5e6)"
   ]
  },
  {
   "cell_type": "markdown",
   "id": "4648676c",
   "metadata": {},
   "source": [
    "Reduce the overall repetition rate of the system to once every three seconds"
   ]
  },
  {
   "cell_type": "code",
   "execution_count": 7,
   "id": "1988531a",
   "metadata": {},
   "outputs": [
    {
     "data": {
      "text/plain": [
       "1"
      ]
     },
     "execution_count": 7,
     "metadata": {},
     "output_type": "execute_result"
    }
   ],
   "source": [
    "epics.caput(\"PULSEGEN:reprate\", 1/3.0)"
   ]
  },
  {
   "cell_type": "markdown",
   "id": "b791859e",
   "metadata": {},
   "source": [
    "Increase the delay time on the LED trigger to be 400 milliseconds (it started at 2 milliseconds)"
   ]
  },
  {
   "cell_type": "code",
   "execution_count": 8,
   "id": "aae2629b",
   "metadata": {
    "scrolled": true
   },
   "outputs": [
    {
     "data": {
      "text/plain": [
       "1"
      ]
     },
     "execution_count": 8,
     "metadata": {},
     "output_type": "execute_result"
    }
   ],
   "source": [
    "epics.caput(\"PULSEGEN:CH0:delay\", 400.0e3) # Set LED trigger delay to 400 ms"
   ]
  },
  {
   "cell_type": "markdown",
   "id": "0f4d92e8",
   "metadata": {},
   "source": [
    "## Set up the photodetector trigger delay and exposure time"
   ]
  },
  {
   "cell_type": "markdown",
   "id": "d29e0cee",
   "metadata": {},
   "source": [
    "We want the photodetector to start exposure before the LEDs begin flashing, and end exposure afterwards.\n",
    "\n",
    "We will set the delay time on the trigger to the photodetector to be 300 ms, which is 100 ms prior to the LEDs flashing."
   ]
  },
  {
   "cell_type": "code",
   "execution_count": 9,
   "id": "8547fd7d",
   "metadata": {},
   "outputs": [
    {
     "data": {
      "text/plain": [
       "1"
      ]
     },
     "execution_count": 9,
     "metadata": {},
     "output_type": "execute_result"
    }
   ],
   "source": [
    "epics.caput(\"PULSEGEN:CH1:delay\", 300.0e3) # Set Photodetector trigger delay to 300 ms"
   ]
  },
  {
   "cell_type": "markdown",
   "id": "bee75479",
   "metadata": {},
   "source": [
    "Now, we will set the exposure length on the photodiode to a full second, to make sure we capture the entire LED flash duration."
   ]
  },
  {
   "cell_type": "code",
   "execution_count": 10,
   "id": "51854feb",
   "metadata": {},
   "outputs": [
    {
     "data": {
      "text/plain": [
       "1"
      ]
     },
     "execution_count": 10,
     "metadata": {},
     "output_type": "execute_result"
    }
   ],
   "source": [
    "epics.caput(\"PHOTO:dur\", 1000.0e3) # Set photodetector exposure length to one second"
   ]
  },
  {
   "cell_type": "markdown",
   "id": "3aa8d150",
   "metadata": {},
   "source": [
    "## Read the photodetector value"
   ]
  },
  {
   "cell_type": "code",
   "execution_count": 11,
   "id": "c9eb47a3",
   "metadata": {},
   "outputs": [
    {
     "data": {
      "text/plain": [
       "'DATA: 0.06364211, TRIGCNT: 727'"
      ]
     },
     "execution_count": 11,
     "metadata": {},
     "output_type": "execute_result"
    }
   ],
   "source": [
    "epics.caget(\"PHOTO:data\")"
   ]
  },
  {
   "cell_type": "code",
   "execution_count": null,
   "id": "6ad5d9b5",
   "metadata": {},
   "outputs": [],
   "source": []
  },
  {
   "cell_type": "markdown",
   "id": "b93b782e",
   "metadata": {},
   "source": [
    "### Loop over brightness values"
   ]
  },
  {
   "cell_type": "markdown",
   "id": "f426c144",
   "metadata": {},
   "source": [
    "Loop over brightness demo"
   ]
  },
  {
   "cell_type": "code",
   "execution_count": 18,
   "id": "da5bb29b",
   "metadata": {},
   "outputs": [
    {
     "name": "stdout",
     "output_type": "stream",
     "text": [
      "Brightness:  0\n",
      "DATA: 0.00004400, TRIGCNT: 790\n",
      "Brightness:  63\n",
      "DATA: 0.00070141, TRIGCNT: 791\n",
      "Brightness:  127\n",
      "DATA: 0.02326047, TRIGCNT: 792\n",
      "Brightness:  191\n",
      "DATA: 0.02314141, TRIGCNT: 793\n",
      "Brightness:  255\n",
      "DATA: 0.07129035, TRIGCNT: 794\n"
     ]
    }
   ],
   "source": [
    "for brig in np.linspace(0, 255, 5).astype('int'):\n",
    "    print(\"Brightness: \", brig)\n",
    "    for LEDbrig in LEDbrigs:\n",
    "        LEDbrig.put(brig)\n",
    "    sleep(3)\n",
    "    print(epics.caget(\"PHOTO:data\"))"
   ]
  }
 ],
 "metadata": {
  "kernelspec": {
   "display_name": "Python 3",
   "language": "python",
   "name": "python3"
  },
  "language_info": {
   "codemirror_mode": {
    "name": "ipython",
    "version": 3
   },
   "file_extension": ".py",
   "mimetype": "text/x-python",
   "name": "python",
   "nbconvert_exporter": "python",
   "pygments_lexer": "ipython3",
   "version": "3.9.6"
  }
 },
 "nbformat": 4,
 "nbformat_minor": 5
}
