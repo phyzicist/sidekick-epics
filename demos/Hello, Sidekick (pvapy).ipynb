{
 "cells": [
  {
   "cell_type": "markdown",
   "id": "34a8ff25",
   "metadata": {},
   "source": [
    "# Hello, Sidekick System! (pvapy - work in progress)\n",
    "\n",
    "A simple example showing how to print out some variables from your sidekick system, and set some as well. Uses the \"pyepics\" code.\n",
    "\n",
    "Run this from a laptop on your same network as the sidekick devices.\n",
    "\n",
    "Start this Python kernel *after* joining the proper network."
   ]
  },
  {
   "cell_type": "markdown",
   "id": "a70abea3",
   "metadata": {},
   "source": [
    "## References:\n",
    "1. [pvaPy Documentation](https://epics.anl.gov/extensions/pvaPy/production/index.html#): It's a little sparse, however!\n",
    "1. [pvaPy GitHub Page](https://github.com/epics-base/pvaPy): contains introductory material\n",
    "1. [pvaPy Basic Usage: Put/Get](https://github.com/epics-base/pvaPy#basic-usage-pv-putget)"
   ]
  },
  {
   "cell_type": "code",
   "execution_count": 18,
   "id": "a78b26e3",
   "metadata": {},
   "outputs": [],
   "source": [
    "import pvaccess\n",
    "from pvaccess import Channel"
   ]
  },
  {
   "cell_type": "markdown",
   "id": "8aa65992",
   "metadata": {},
   "source": [
    "## Read some values!"
   ]
  },
  {
   "cell_type": "code",
   "execution_count": 22,
   "id": "336cf9d1",
   "metadata": {},
   "outputs": [
    {
     "ename": "ArgumentError",
     "evalue": "Python argument types in\n    Channel.__init__(Channel, str)\ndid not match C++ signature:\n    __init__(struct _object * __ptr64, class std::basic_string<char,struct std::char_traits<char>,class std::allocator<char> >, enum PvProvider::ProviderType)\n    __init__(struct _object * __ptr64, class std::basic_string<char,struct std::char_traits<char>,class std::allocator<char> >)",
     "output_type": "error",
     "traceback": [
      "\u001b[1;31m---------------------------------------------------------------------------\u001b[0m",
      "\u001b[1;31mArgumentError\u001b[0m                             Traceback (most recent call last)",
      "\u001b[1;32m<ipython-input-22-9f14e175b1e9>\u001b[0m in \u001b[0;36m<module>\u001b[1;34m\u001b[0m\n\u001b[1;32m----> 1\u001b[1;33m \u001b[0mc\u001b[0m \u001b[1;33m=\u001b[0m \u001b[0mChannel\u001b[0m\u001b[1;33m(\u001b[0m\u001b[1;34m'LEDS:info'\u001b[0m\u001b[1;33m,\u001b[0m \u001b[0mproviderType\u001b[0m\u001b[1;33m=\u001b[0m\u001b[0mpvaccess\u001b[0m\u001b[1;33m.\u001b[0m\u001b[0mCA\u001b[0m\u001b[1;33m)\u001b[0m\u001b[1;33m\u001b[0m\u001b[1;33m\u001b[0m\u001b[0m\n\u001b[0m",
      "\u001b[1;31mArgumentError\u001b[0m: Python argument types in\n    Channel.__init__(Channel, str)\ndid not match C++ signature:\n    __init__(struct _object * __ptr64, class std::basic_string<char,struct std::char_traits<char>,class std::allocator<char> >, enum PvProvider::ProviderType)\n    __init__(struct _object * __ptr64, class std::basic_string<char,struct std::char_traits<char>,class std::allocator<char> >)"
     ]
    }
   ],
   "source": [
    "c = Channel('LEDS:info', providerType=pvaccess.CA)"
   ]
  },
  {
   "cell_type": "code",
   "execution_count": 10,
   "id": "67d1cb54",
   "metadata": {},
   "outputs": [
    {
     "data": {
      "text/plain": [
       "'DolphinDAQ,Arduino Shutter,#00,v0.1'"
      ]
     },
     "execution_count": 10,
     "metadata": {},
     "output_type": "execute_result"
    }
   ],
   "source": [
    "epics.caget(\"SHUTTER:info\")"
   ]
  },
  {
   "cell_type": "code",
   "execution_count": 11,
   "id": "909e474c",
   "metadata": {},
   "outputs": [
    {
     "data": {
      "text/plain": [
       "'DolphinDAQ,Arduino PulseGen,#00,v0.1'"
      ]
     },
     "execution_count": 11,
     "metadata": {},
     "output_type": "execute_result"
    }
   ],
   "source": [
    "epics.caget(\"PULSEGEN:info\")"
   ]
  },
  {
   "cell_type": "code",
   "execution_count": 24,
   "id": "60009ca2",
   "metadata": {
    "scrolled": false
   },
   "outputs": [
    {
     "data": {
      "text/plain": [
       "300000.0"
      ]
     },
     "execution_count": 24,
     "metadata": {},
     "output_type": "execute_result"
    }
   ],
   "source": [
    "epics.caget(\"LEDS:CH0:dur\") # Read pulse duration of LED#0"
   ]
  },
  {
   "cell_type": "markdown",
   "id": "33234348",
   "metadata": {},
   "source": [
    "You should get \"200000.0\" above. If you got \"None\" instead, you're not establishing a proper connection to the EPICS sidekick system. Check your network connection and try again!"
   ]
  },
  {
   "cell_type": "markdown",
   "id": "434e808c",
   "metadata": {},
   "source": [
    "## Set some values!"
   ]
  },
  {
   "cell_type": "code",
   "execution_count": 21,
   "id": "cf478174",
   "metadata": {},
   "outputs": [
    {
     "data": {
      "text/plain": [
       "1"
      ]
     },
     "execution_count": 21,
     "metadata": {},
     "output_type": "execute_result"
    }
   ],
   "source": [
    "epics.caput(\"LEDS:CH0:brig\", 0) # Suppress output from LED #0 by setting brightness to \"0\" (out of 255)"
   ]
  },
  {
   "cell_type": "code",
   "execution_count": 25,
   "id": "c3306999",
   "metadata": {},
   "outputs": [
    {
     "data": {
      "text/plain": [
       "1"
      ]
     },
     "execution_count": 25,
     "metadata": {},
     "output_type": "execute_result"
    }
   ],
   "source": [
    "epics.caput(\"LEDS:CH3:brig\", 255) # Maximize brightness from LED #3 by setting brightness to \"255\" (out of 255)"
   ]
  },
  {
   "cell_type": "code",
   "execution_count": null,
   "id": "d77670b2",
   "metadata": {},
   "outputs": [],
   "source": []
  }
 ],
 "metadata": {
  "kernelspec": {
   "display_name": "Python 3",
   "language": "python",
   "name": "python3"
  },
  "language_info": {
   "codemirror_mode": {
    "name": "ipython",
    "version": 3
   },
   "file_extension": ".py",
   "mimetype": "text/x-python",
   "name": "python",
   "nbconvert_exporter": "python",
   "pygments_lexer": "ipython3",
   "version": "3.9.6"
  }
 },
 "nbformat": 4,
 "nbformat_minor": 5
}
